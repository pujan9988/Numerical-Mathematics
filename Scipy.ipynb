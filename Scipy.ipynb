{
  "nbformat": 4,
  "nbformat_minor": 0,
  "metadata": {
    "colab": {
      "provenance": []
    },
    "kernelspec": {
      "name": "python3",
      "display_name": "Python 3"
    },
    "language_info": {
      "name": "python"
    }
  },
  "cells": [
    {
      "cell_type": "code",
      "execution_count": null,
      "metadata": {
        "id": "6tquLYbRMnSJ"
      },
      "outputs": [],
      "source": [
        "import numpy as np\n",
        "import scipy as sp\n",
        "import matplotlib.pyplot as plt"
      ]
    },
    {
      "cell_type": "markdown",
      "source": [
        "Minimize <font color=\"blue\" size=\"3\">**_f(x) = (x-3)_**<sup>**2**</sup>"
      ],
      "metadata": {
        "id": "UF1219DoSd9N"
      }
    },
    {
      "cell_type": "code",
      "source": [
        "from scipy.optimize import minimize\n",
        "\n",
        "def f(x):\n",
        "  return (x-3)**2\n",
        "\n",
        "result = minimize(f,2) # since the resultant is not a single value so we have to get the actual value\n",
        "local_min = f\"{result.x[0]:.2f}\"\n",
        "print(local_min)\n"
      ],
      "metadata": {
        "colab": {
          "base_uri": "https://localhost:8080/"
        },
        "id": "Ywe0Gh2sOXhr",
        "outputId": "ccd35ed1-8e52-4697-a256-11af92b4e417"
      },
      "execution_count": null,
      "outputs": [
        {
          "output_type": "stream",
          "name": "stdout",
          "text": [
            "3.00\n"
          ]
        }
      ]
    },
    {
      "cell_type": "markdown",
      "source": [
        "Minimize <font color=\"blue\"> **f(x,y) = (x-1)<sup>2</sup>+(y-2.5)**<sup>2</sup> </font> with subject to:\n",
        "\n",
        "<font color=\"red\">\n",
        "x-2y+2 &#8805; 0, -x-2y+6 &#8805; 0, -x+2y+2 &#8805; 0, x &#8805; 0, y &#8805; 0\n",
        "</font>"
      ],
      "metadata": {
        "id": "6lcf28vpUsDt"
      }
    },
    {
      "cell_type": "code",
      "source": [
        "fun = lambda x: (x[0]-1)**2 + (x[1]-2.5)**2 #here x will be given as vector containing both x and y\n",
        "\n",
        "#constraints functions should be always >= 0\n",
        "constraints = ({'type': 'ineq', 'fun': lambda x: x[0]-2*x[1]+2},\n",
        "               {'type': 'ineq', 'fun': lambda x: -x[0]-2*x[1]+6},\n",
        "               {'type': 'ineq', 'fun': lambda x: x[0]+2*x[1]+2},\n",
        "               )\n",
        "bounds = ((0,None),(0,None))\n",
        "\n",
        "result = minimize(fun,[2,0],constraints = constraints , bounds=bounds)\n",
        "result.x"
      ],
      "metadata": {
        "colab": {
          "base_uri": "https://localhost:8080/"
        },
        "id": "L9zJp3sVWgk5",
        "outputId": "cbb83896-5f89-49ee-ef01-47370ac3630e"
      },
      "execution_count": null,
      "outputs": [
        {
          "output_type": "execute_result",
          "data": {
            "text/plain": [
              "array([1.4, 1.7])"
            ]
          },
          "metadata": {},
          "execution_count": 31
        }
      ]
    },
    {
      "cell_type": "markdown",
      "source": [
        "<font color=\"black\" size=\"5\">**_Interpolation_** </font>"
      ],
      "metadata": {
        "id": "dtNrW1BBwXzu"
      }
    },
    {
      "cell_type": "code",
      "source": [
        "x = np.arange(0, 2*np.pi, 0.4)\n",
        "y = np.sin(x)\n",
        "print(x)\n",
        "print(y)\n",
        "plt.scatter(x,y,color=\"blue\",marker=\"x\")\n",
        "\n",
        "ax = plt.gca()  # gca = get current axis\n",
        "\n",
        "\n",
        "# to set the axis x at y=0, we can simply give'zero' to set_position() and to set in specific position\n",
        "#other than zero, we give tuple ('data',value) to set_position()\n",
        "# for example:\n",
        "#  ax.spines[\"left\"].set_position(('data',3)) this will set the y-axis at x= 3\n",
        "# but for now we will set both x and y axis at origin\n",
        "ax.spines[\"bottom\"].set_position('zero')\n",
        "ax.spines[\"left\"].set_position('zero')\n",
        "\n",
        "\n",
        "major_ticks = np.arange(0, 7, 1)\n",
        "minor_ticks = np.arange(0.5, 6.5, 1)\n",
        "\n",
        "ax.set_xticks(major_ticks)\n",
        "ax.set_xticks(minor_ticks,minor=True)\n",
        "\n",
        "# Set grid properties\n",
        "ax.grid(which='both')\n",
        "ax.grid(which='minor', alpha=0.2)\n"
      ],
      "metadata": {
        "colab": {
          "base_uri": "https://localhost:8080/",
          "height": 479
        },
        "id": "O9mIrr5_whc6",
        "outputId": "f830e6fe-f560-4ee6-f680-43d7672a1fd8"
      },
      "execution_count": null,
      "outputs": [
        {
          "output_type": "stream",
          "name": "stdout",
          "text": [
            "[0.  0.4 0.8 1.2 1.6 2.  2.4 2.8 3.2 3.6 4.  4.4 4.8 5.2 5.6 6. ]\n",
            "[ 0.          0.38941834  0.71735609  0.93203909  0.9995736   0.90929743\n",
            "  0.67546318  0.33498815 -0.05837414 -0.44252044 -0.7568025  -0.95160207\n",
            " -0.99616461 -0.88345466 -0.63126664 -0.2794155 ]\n"
          ]
        },
        {
          "output_type": "display_data",
          "data": {
            "text/plain": [
              "<Figure size 640x480 with 1 Axes>"
            ],
            "image/png": "[encoded data removed]"
          },
          "metadata": {}
        }
      ]
    },
    {
      "cell_type": "markdown",
      "source": [
        "<font color=\"blue\"> Now,using the interpolation, we can find the value of any point inside the range of given x. we will use cubic spline interpolation. </font>"
      ],
      "metadata": {
        "id": "dxxIv8kX-DzP"
      }
    },
    {
      "cell_type": "code",
      "source": [
        "from scipy.interpolate import interp1d #interp1d is 1-dimensional linear interpolation\n",
        "interpolation_function = interp1d(x,y,kind=\"cubic\")\n",
        "#now we will calculate y at x = 0.6 which is not given in dataset\n",
        "calculated_y = interpolation_function(0.6)\n",
        "print(calculated_y)"
      ],
      "metadata": {
        "colab": {
          "base_uri": "https://localhost:8080/"
        },
        "id": "cE1S5SjU-iYV",
        "outputId": "095fcb91-3d51-4b50-cb49-430e4abd8279"
      },
      "execution_count": null,
      "outputs": [
        {
          "output_type": "stream",
          "name": "stdout",
          "text": [
            "0.5645272878487455\n",
            "0.5646424733950354\n"
          ]
        }
      ]
    },
    {
      "cell_type": "markdown",
      "source": [
        "<font color=\"blue\">**_Sympy_** library can be used to calculate the derivatives and intergration of the functions where as **_numpy_** and **_scipy_** only allows to compute the numerical differentiation and integration </font>"
      ],
      "metadata": {
        "id": "XcPr9Ycyb2bI"
      }
    },
    {
      "cell_type": "code",
      "source": [
        "import sympy as sp\n",
        "\n",
        "# Define the symbolic variables\n",
        "x, y = sp.symbols('x y')\n",
        "\n",
        "# Define the function f(x, y) = x^2 + 2xy\n",
        "f = x**2 + 2*x*y\n",
        "\n",
        "# Calculate the derivative of f with respect to x\n",
        "derivative_fx = sp.diff(f, x)\n",
        "\n",
        "print(\"Derivative of f(x, y) with respect to x =\", derivative_fx)\n"
      ],
      "metadata": {
        "colab": {
          "base_uri": "https://localhost:8080/"
        },
        "id": "_twhQYDT_4zx",
        "outputId": "1f606249-1b3b-4f8a-a83f-47552a0862ed"
      },
      "execution_count": null,
      "outputs": [
        {
          "output_type": "stream",
          "name": "stdout",
          "text": [
            "Derivative of f(x, y) with respect to x = 2*x + 2*y\n"
          ]
        }
      ]
    },
    {
      "cell_type": "markdown",
      "source": [
        "<font color=\"blue\">Numerical differentiation using **scipy** </font>\n",
        "\n"
      ],
      "metadata": {
        "id": "VJBiBhlKcdik"
      }
    },
    {
      "cell_type": "code",
      "source": [
        "from scipy.misc import derivative\n",
        "import numpy as np\n",
        "import matplotlib.pyplot as plt\n",
        "\n",
        "def fun(x):\n",
        "  return  x**2 * np.sin(2*x) * np.exp(-x)\n",
        "\n",
        "x = np.linspace(0,1,100)\n",
        "first_ord_der = derivative(fun,x,dx=1e-6)\n",
        "second_ord_der = derivative(fun,x,dx=1e-6,n=2)\n",
        "plt.plot(x,fun(x));\n",
        "plt.plot(x,first_ord_der);\n",
        "plt.plot(x,second_ord_der);"
      ],
      "metadata": {
        "id": "PWwQK8Q7D3ka",
        "colab": {
          "base_uri": "https://localhost:8080/",
          "height": 542
        },
        "outputId": "5b4613ff-5ff0-48c7-9c5e-2709d9000465"
      },
      "execution_count": null,
      "outputs": [
        {
          "output_type": "stream",
          "name": "stderr",
          "text": [
            "<ipython-input-3-0152c5f3545c>:9: DeprecationWarning: scipy.misc.derivative is deprecated in SciPy v1.10.0; and will be completely removed in SciPy v1.12.0. You may consider using findiff: https://github.com/maroba/findiff or numdifftools: https://github.com/pbrod/numdifftools\n",
            "  first_ord_der = derivative(fun,x,dx=1e-6)\n",
            "<ipython-input-3-0152c5f3545c>:10: DeprecationWarning: scipy.misc.derivative is deprecated in SciPy v1.10.0; and will be completely removed in SciPy v1.12.0. You may consider using findiff: https://github.com/maroba/findiff or numdifftools: https://github.com/pbrod/numdifftools\n",
            "  second_ord_der = derivative(fun,x,dx=1e-6,n=2)\n"
          ]
        },
        {
          "output_type": "execute_result",
          "data": {
            "text/plain": [
              "[<matplotlib.lines.Line2D at 0x7d0b1595b460>]"
            ]
          },
          "metadata": {},
          "execution_count": 3
        },
        {
          "output_type": "display_data",
          "data": {
            "text/plain": [
              "<Figure size 640x480 with 1 Axes>"
            ],
            "image/png": "[encoded data removed]"
          },
          "metadata": {}
        }
      ]
    },
    {
      "cell_type": "markdown",
      "source": [
        "<font color=\"blue\" > **Numerical Integration**</font>\n",
        "\n",
        "\n"
      ],
      "metadata": {
        "id": "0qKk5nK_gLM_"
      }
    },
    {
      "cell_type": "code",
      "source": [
        "from scipy.integrate import quad\n",
        "\n",
        "integrand = lambda x: x**2 * np.sin(x) * np.exp(-x)\n",
        "integral, integral_error = quad(integrand,0,1) # where 0 = lower limit, 1 = upper limit\n",
        "integral"
      ],
      "metadata": {
        "id": "mr3f9UyxgSUa",
        "colab": {
          "base_uri": "https://localhost:8080/"
        },
        "outputId": "810addc0-08d6-4e2e-f4a6-f3224a3ae042"
      },
      "execution_count": null,
      "outputs": [
        {
          "output_type": "execute_result",
          "data": {
            "text/plain": [
              "0.10246777930717413"
            ]
          },
          "metadata": {},
          "execution_count": 6
        }
      ]
    },
    {
      "cell_type": "markdown",
      "source": [
        "<font color=\"blue\">Double Integration </font>"
      ],
      "metadata": {
        "id": "NQw2uAj7NKVC"
      }
    },
    {
      "cell_type": "code",
      "source": [
        "from scipy.integrate import dblquad\n",
        "integrand = lambda x,y: np.sin(x+y**2)\n",
        "lwr_y = lambda x: -x # inner lower limit\n",
        "upr_y = lambda x: x**2 #inner upper limit\n",
        "integral,integral_error = dblquad(integrand,0,1,lwr_y,upr_y) # 0 = outer lwr limit , 1 = outer upr limit\n",
        "integral"
      ],
      "metadata": {
        "colab": {
          "base_uri": "https://localhost:8080/"
        },
        "id": "Odxii7IjNPIr",
        "outputId": "60c66fec-258c-4685-e684-b4998033e0f3"
      },
      "execution_count": null,
      "outputs": [
        {
          "output_type": "execute_result",
          "data": {
            "text/plain": [
              "0.315802507240474"
            ]
          },
          "metadata": {},
          "execution_count": 7
        }
      ]
    },
    {
      "cell_type": "code",
      "source": [
        "import numpy as np\n",
        "mat = np.identity(4)\n",
        "mat"
      ],
      "metadata": {
        "colab": {
          "base_uri": "https://localhost:8080/"
        },
        "id": "FscYDSsBOKKu",
        "outputId": "b08e105d-4668-4cb5-a52f-d1ed80830700"
      },
      "execution_count": null,
      "outputs": [
        {
          "output_type": "execute_result",
          "data": {
            "text/plain": [
              "array([[1., 0., 0., 0.],\n",
              "       [0., 1., 0., 0.],\n",
              "       [0., 0., 1., 0.],\n",
              "       [0., 0., 0., 1.]])"
            ]
          },
          "metadata": {},
          "execution_count": 1
        }
      ]
    },
    {
      "cell_type": "code",
      "source": [
        "from sklearn.linear_model import LinearRegression\n",
        "from sklearn.model_selection import train_test_split\n",
        "from sklearn.datasets import make_regression\n",
        "from sklearn.metrics import mean_squared_error, r2_score\n",
        "\n",
        "\n",
        "# Generate a synthetic dataset\n",
        "X, y = make_regression(n_samples=1000, n_features=2, noise=0.1)\n",
        "\n",
        "# Split the dataset into training and testing sets\n",
        "X_train, X_test, y_train, y_test = train_test_split(X, y, test_size=0.2, random_state=42)\n",
        "\n",
        "# Create a LinearRegression instance\n",
        "linear_regressor = LinearRegression()\n",
        "\n",
        "# Train the model\n",
        "linear_regressor.fit(X_train, y_train)\n",
        "\n",
        "# Make predictions\n",
        "y_pred = linear_regressor.predict(X_test)\n",
        "# Calculate performance metrics\n",
        "mse = mean_squared_error(y_test, y_pred)\n",
        "r2 = r2_score(y_test, y_pred)\n",
        "\n",
        "print(f\"Mean Squared Error: {mse}\")\n",
        "print(f\"R-squared: {r2}\")\n"
      ],
      "metadata": {
        "colab": {
          "base_uri": "https://localhost:8080/"
        },
        "id": "78cDRnsKYh1s",
        "outputId": "b0698e01-fd20-402a-c7f0-dd282a7578b5"
      },
      "execution_count": null,
      "outputs": [
        {
          "output_type": "stream",
          "name": "stdout",
          "text": [
            "Mean Squared Error: 0.01043966404825412\n",
            "R-squared: 0.9999985121389936\n"
          ]
        }
      ]
    },
    {
      "cell_type": "code",
      "source": [
        "new_y = linear_regressor.predict([[-0.8234,-2.343]])\n",
        "print(len(X_train))"
      ],
      "metadata": {
        "colab": {
          "base_uri": "https://localhost:8080/"
        },
        "id": "-303OxyzZkjP",
        "outputId": "0f86622c-e69c-4890-a16e-f1400b839b18"
      },
      "execution_count": null,
      "outputs": [
        {
          "output_type": "stream",
          "name": "stdout",
          "text": [
            "800\n"
          ]
        }
      ]
    },
    {
      "cell_type": "code",
      "source": [],
      "metadata": {
        "id": "Rvo_AaokdjD5"
      },
      "execution_count": null,
      "outputs": []
    }
  ]
}
